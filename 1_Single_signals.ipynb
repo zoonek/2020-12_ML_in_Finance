{
 "cells": [
  {
   "cell_type": "code",
   "execution_count": null,
   "metadata": {},
   "outputs": [],
   "source": [
    "from functions import *\n",
    "from functions2 import *\n",
    "from parameters import *\n",
    "\n",
    "from sklearn.linear_model import Lasso\n",
    "from sklearn.linear_model import lasso_path\n",
    "import torch\n",
    "import torch.nn.functional as F\n",
    "\n",
    "from statsmodels.nonparametric.smoothers_lowess import lowess\n",
    "\n",
    "from tqdm import tqdm\n",
    "from IPython.display import display, HTML"
   ]
  },
  {
   "cell_type": "markdown",
   "metadata": {},
   "source": [
    "The raw data, as a CSV file."
   ]
  },
  {
   "cell_type": "code",
   "execution_count": null,
   "metadata": {},
   "outputs": [],
   "source": [
    "LOG( \"Data (data-frame)\" )\n",
    "filename = \"raw/data_ml.csv\"\n",
    "LOG( f\"Reading {filename} [20 seconds]\" )\n",
    "d = pd.read_csv(filename)\n",
    "d['date'] = pd.to_datetime( d['date'] )\n",
    "\n",
    "predictors = list( signs.keys() )\n",
    "target = 'R1M_Usd'"
   ]
  },
  {
   "cell_type": "markdown",
   "metadata": {},
   "source": [
    "Rather than a data-frame, it is often easier to have a list of matrices, one per variable, \n",
    "with one row per stock and one column per date: we can easily combine them or apply some function to each row, or each column."
   ]
  },
  {
   "cell_type": "code",
   "execution_count": null,
   "metadata": {},
   "outputs": [],
   "source": [
    "LOG( \"Data (list of matrices)\" )\n",
    "LOG( \"Read data/data_ml.pickle\" )\n",
    "dd = load( \"data/data_ml.pickle\" )"
   ]
  },
  {
   "cell_type": "markdown",
   "metadata": {},
   "source": [
    "# Single signals\n",
    "For any of the input variables, we can divide the universe into quintiles, long the top quintile, and short the bottom quintile."
   ]
  },
  {
   "cell_type": "code",
   "execution_count": null,
   "metadata": {},
   "outputs": [],
   "source": [
    "LOG( \"Backtest a single signal\" )\n",
    "trailing_log_returns = LAG( np.log1p( dd[ 'R1M_Usd' ] ) )\n",
    "y = trailing_log_returns.copy()\n",
    "y.fillna(0, inplace=True)\n",
    "\n",
    "for signal in predictors: \n",
    "    LOG( f\"  {signal}\" )\n",
    "    x = dd[signal].copy() * signs[signal]\n",
    "    x.fillna(.5, inplace=True)  ## Replace missing values with the median (0.5, since the predictors are uniform)\n",
    "    x = np.where( dd['universe'], 1, np.nan ) * x   # Only invest in stocks in the universe\n",
    "    r = signal_backtest(x, y, date = DATE1)\n",
    "\n",
    "    fig, ax = plt.subplots()\n",
    "    for i in range(6):\n",
    "        ax.plot( r['dates'], r['prices'].iloc[i,:], color = quintile_colours[i] )\n",
    "    ax.set_yscale('log')\n",
    "    ax.set_title(signal if signs[signal]>=0 else f\"- {signal}\")\n",
    "    ax.text(0.02, .97, f\"μ={100*r['performance'].iloc[5,:]['CAGR']:.1f}%\",                  horizontalalignment='left', verticalalignment='top', transform = ax.transAxes)\n",
    "    ax.text(0.02, .90, f\"σ={100*r['performance'].iloc[5,:]['Annualized Volatility']:.1f}%\", horizontalalignment='left', verticalalignment='top', transform = ax.transAxes)\n",
    "    ax.text(0.02, .83, f\"IR={r['performance'].iloc[5,:]['Information Ratio']:.2f}\",         horizontalalignment='left', verticalalignment='top', transform = ax.transAxes)\n",
    "    fig.savefig(f'plots/signal_wealth_{signal}.pdf')\n",
    "    plt.show()\n",
    "\n",
    "    display(r['performance'])\n",
    "    \n",
    "LOG(\"Done.\")"
   ]
  }
 ],
 "metadata": {
  "kernelspec": {
   "display_name": "Python 3",
   "language": "python",
   "name": "python3"
  },
  "language_info": {
   "codemirror_mode": {
    "name": "ipython",
    "version": 3
   },
   "file_extension": ".py",
   "mimetype": "text/x-python",
   "name": "python",
   "nbconvert_exporter": "python",
   "pygments_lexer": "ipython3",
   "version": "3.8.5"
  }
 },
 "nbformat": 4,
 "nbformat_minor": 4
}
