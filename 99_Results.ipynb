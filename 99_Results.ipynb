{
 "cells": [
  {
   "cell_type": "code",
   "execution_count": null,
   "metadata": {},
   "outputs": [],
   "source": [
    "import numpy as np\n",
    "import pandas as pd\n",
    "from functions import *\n",
    "from functions2 import *"
   ]
  },
  {
   "cell_type": "code",
   "execution_count": null,
   "metadata": {},
   "outputs": [],
   "source": [
    "d2 = pd.read_csv(\"results/constrained.csv\")\n",
    "i1 = d2['period'] == 'out-of-sample'\n",
    "i2 = d2['portfolio'] == 'LS'\n",
    "i = i1 & i2\n",
    "d2 = d2[i]"
   ]
  },
  {
   "cell_type": "code",
   "execution_count": null,
   "metadata": {},
   "outputs": [],
   "source": [
    "d0 = pd.read_csv(\"results/unconstrained.csv\")\n",
    "i1 = d0['period'] == 'out-of-sample'\n",
    "i2 = d0['portfolio'] == 'LS'\n",
    "i = i1 & i2\n",
    "d0 = d0[i]"
   ]
  },
  {
   "cell_type": "code",
   "execution_count": null,
   "metadata": {},
   "outputs": [],
   "source": [
    "d1 = pd.read_csv(\"results/lasso.csv\")\n",
    "i1 = d1['period'] == 'out-of-sample'\n",
    "i2 = d1['portfolio'] == 'LS'\n",
    "i3 = d1['predictors'] <= 10\n",
    "i = i1 & i2 & i3\n",
    "d1 = d1[i].iloc[[-1],:]"
   ]
  },
  {
   "cell_type": "code",
   "execution_count": null,
   "metadata": {},
   "outputs": [],
   "source": [
    "d3 = pd.read_csv(\"results/model2_nonlinear_3d_mb.csv\")\n",
    "i1 = d3['period'] == 'out-of-sample'\n",
    "i2 = d3['portfolio'] == 'LS'\n",
    "i = i1 & i2\n",
    "if i.sum() > 0:\n",
    "    d3 = d3[i]\n",
    "d3"
   ]
  },
  {
   "cell_type": "code",
   "execution_count": null,
   "metadata": {},
   "outputs": [],
   "source": [
    "d4 = pd.read_csv(\"results/model3b_linear_IR_minibatches.csv\")\n",
    "i1 = d4['period'] == 'out-of-sample'\n",
    "i2 = d4['portfolio'] == 'LS'\n",
    "i = i1 & i2\n",
    "d4 = d4[i]"
   ]
  },
  {
   "cell_type": "code",
   "execution_count": null,
   "metadata": {},
   "outputs": [],
   "source": [
    "d5 = pd.read_csv(\"results/model6_nonlinear_IR.csv\")\n",
    "i1 = d5['period'] == 'out-of-sample'\n",
    "i2 = d5['portfolio'] == 'LS'\n",
    "i = i1 & i2\n",
    "d5 = d5[i]"
   ]
  },
  {
   "cell_type": "code",
   "execution_count": null,
   "metadata": {},
   "outputs": [],
   "source": [
    "d = pd.concat([d0,d1,d2,d3,d4,d5])\n",
    "tmp = d[['model','portfolio', 'period', 'CAGR', 'Annualized Volatility', 'Information Ratio', 'Turnover']].copy()\n",
    "for i in ['CAGR', 'Annualized Volatility', 'Turnover']:\n",
    "    tmp[i] = 100 * tmp[i]\n",
    "tmp.columns = ['Model', 'Portfolio', 'Period', 'CAGR (%)', 'AnnVol (%)', 'IR', 'Turnover (%)']\n",
    "latex(\n",
    "    tmp,\n",
    "    align='lllrrrr',\n",
    "    #format = { u: latex_decimal if type( tmp[u].iloc[0] ) == np.float64  else str for u in tmp.columns },\n",
    "    format = { \n",
    "        'CAGR (%)':     lambda u: latex_decimal(u,1),\n",
    "        'AnnVol (%)':   lambda u: latex_decimal(u,1),\n",
    "        'IR':           lambda u: latex_decimal(u,2),\n",
    "        'Turnover (%)': lambda u: latex_decimal(u,0),\n",
    "    },\n",
    "    file = 'results/performance_all.tex'\n",
    ")\n",
    "tmp"
   ]
  }
 ],
 "metadata": {
  "kernelspec": {
   "display_name": "Python 3",
   "language": "python",
   "name": "python3"
  },
  "language_info": {
   "codemirror_mode": {
    "name": "ipython",
    "version": 3
   },
   "file_extension": ".py",
   "mimetype": "text/x-python",
   "name": "python",
   "nbconvert_exporter": "python",
   "pygments_lexer": "ipython3",
   "version": "3.8.5"
  }
 },
 "nbformat": 4,
 "nbformat_minor": 4
}
